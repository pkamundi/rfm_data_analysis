{
 "cells": [
  {
   "cell_type": "code",
   "execution_count": 1,
   "id": "6dd02297",
   "metadata": {
    "execution": {
     "iopub.execute_input": "2023-10-17T15:28:59.478709Z",
     "iopub.status.busy": "2023-10-17T15:28:59.478116Z",
     "iopub.status.idle": "2023-10-17T15:28:59.900880Z",
     "shell.execute_reply": "2023-10-17T15:28:59.899974Z"
    },
    "papermill": {
     "duration": 0.430074,
     "end_time": "2023-10-17T15:28:59.903126",
     "exception": false,
     "start_time": "2023-10-17T15:28:59.473052",
     "status": "completed"
    },
    "tags": []
   },
   "outputs": [
    {
     "data": {
      "text/html": [
       "<div>\n",
       "<style scoped>\n",
       "    .dataframe tbody tr th:only-of-type {\n",
       "        vertical-align: middle;\n",
       "    }\n",
       "\n",
       "    .dataframe tbody tr th {\n",
       "        vertical-align: top;\n",
       "    }\n",
       "\n",
       "    .dataframe thead th {\n",
       "        text-align: right;\n",
       "    }\n",
       "</style>\n",
       "<table border=\"1\" class=\"dataframe\">\n",
       "  <thead>\n",
       "    <tr style=\"text-align: right;\">\n",
       "      <th></th>\n",
       "      <th>CustomerID</th>\n",
       "      <th>PurchaseDate</th>\n",
       "      <th>TransactionAmount</th>\n",
       "      <th>ProductInformation</th>\n",
       "      <th>OrderID</th>\n",
       "      <th>Location</th>\n",
       "    </tr>\n",
       "  </thead>\n",
       "  <tbody>\n",
       "    <tr>\n",
       "      <th>0</th>\n",
       "      <td>8814</td>\n",
       "      <td>2023-04-11</td>\n",
       "      <td>943.31</td>\n",
       "      <td>Product C</td>\n",
       "      <td>890075</td>\n",
       "      <td>Tokyo</td>\n",
       "    </tr>\n",
       "    <tr>\n",
       "      <th>1</th>\n",
       "      <td>2188</td>\n",
       "      <td>2023-04-11</td>\n",
       "      <td>463.70</td>\n",
       "      <td>Product A</td>\n",
       "      <td>176819</td>\n",
       "      <td>London</td>\n",
       "    </tr>\n",
       "    <tr>\n",
       "      <th>2</th>\n",
       "      <td>4608</td>\n",
       "      <td>2023-04-11</td>\n",
       "      <td>80.28</td>\n",
       "      <td>Product A</td>\n",
       "      <td>340062</td>\n",
       "      <td>New York</td>\n",
       "    </tr>\n",
       "    <tr>\n",
       "      <th>3</th>\n",
       "      <td>2559</td>\n",
       "      <td>2023-04-11</td>\n",
       "      <td>221.29</td>\n",
       "      <td>Product A</td>\n",
       "      <td>239145</td>\n",
       "      <td>London</td>\n",
       "    </tr>\n",
       "    <tr>\n",
       "      <th>4</th>\n",
       "      <td>9482</td>\n",
       "      <td>2023-04-11</td>\n",
       "      <td>739.56</td>\n",
       "      <td>Product A</td>\n",
       "      <td>194545</td>\n",
       "      <td>Paris</td>\n",
       "    </tr>\n",
       "  </tbody>\n",
       "</table>\n",
       "</div>"
      ],
      "text/plain": [
       "   CustomerID PurchaseDate  TransactionAmount ProductInformation  OrderID  \\\n",
       "0        8814   2023-04-11             943.31          Product C   890075   \n",
       "1        2188   2023-04-11             463.70          Product A   176819   \n",
       "2        4608   2023-04-11              80.28          Product A   340062   \n",
       "3        2559   2023-04-11             221.29          Product A   239145   \n",
       "4        9482   2023-04-11             739.56          Product A   194545   \n",
       "\n",
       "   Location  \n",
       "0     Tokyo  \n",
       "1    London  \n",
       "2  New York  \n",
       "3    London  \n",
       "4     Paris  "
      ]
     },
     "execution_count": 1,
     "metadata": {},
     "output_type": "execute_result"
    }
   ],
   "source": [
    "import pandas as pd\n",
    "import numpy as np\n",
    "from matplotlib import pyplot as plt\n",
    "\n",
    "#The below get gets our data from the source\n",
    "#Have named our data set rfm_data\n",
    "rfm_data = pd.read_csv('/kaggle/input/rfm-analysis-case-study/rfm_data.csv')\n",
    "\n",
    "#The code gets the first 5 rows of our dataset\n",
    "rfm_data.head(5)"
   ]
  },
  {
   "cell_type": "code",
   "execution_count": 2,
   "id": "3e67f777",
   "metadata": {
    "execution": {
     "iopub.execute_input": "2023-10-17T15:28:59.913822Z",
     "iopub.status.busy": "2023-10-17T15:28:59.913247Z",
     "iopub.status.idle": "2023-10-17T15:28:59.918240Z",
     "shell.execute_reply": "2023-10-17T15:28:59.917480Z"
    },
    "papermill": {
     "duration": 0.011594,
     "end_time": "2023-10-17T15:28:59.920130",
     "exception": false,
     "start_time": "2023-10-17T15:28:59.908536",
     "status": "completed"
    },
    "tags": []
   },
   "outputs": [
    {
     "data": {
      "text/plain": [
       "(1000, 6)"
      ]
     },
     "execution_count": 2,
     "metadata": {},
     "output_type": "execute_result"
    }
   ],
   "source": [
    "#This returns the amount of rows and columns in our dataset\n",
    "rfm_data.shape\n"
   ]
  },
  {
   "cell_type": "code",
   "execution_count": 3,
   "id": "a94c5113",
   "metadata": {
    "execution": {
     "iopub.execute_input": "2023-10-17T15:28:59.928636Z",
     "iopub.status.busy": "2023-10-17T15:28:59.928053Z",
     "iopub.status.idle": "2023-10-17T15:28:59.956394Z",
     "shell.execute_reply": "2023-10-17T15:28:59.955260Z"
    },
    "papermill": {
     "duration": 0.035425,
     "end_time": "2023-10-17T15:28:59.958917",
     "exception": false,
     "start_time": "2023-10-17T15:28:59.923492",
     "status": "completed"
    },
    "tags": []
   },
   "outputs": [
    {
     "name": "stdout",
     "output_type": "stream",
     "text": [
      "<class 'pandas.core.frame.DataFrame'>\n",
      "RangeIndex: 1000 entries, 0 to 999\n",
      "Data columns (total 6 columns):\n",
      " #   Column              Non-Null Count  Dtype  \n",
      "---  ------              --------------  -----  \n",
      " 0   CustomerID          1000 non-null   int64  \n",
      " 1   PurchaseDate        1000 non-null   object \n",
      " 2   TransactionAmount   1000 non-null   float64\n",
      " 3   ProductInformation  1000 non-null   object \n",
      " 4   OrderID             1000 non-null   int64  \n",
      " 5   Location            1000 non-null   object \n",
      "dtypes: float64(1), int64(2), object(3)\n",
      "memory usage: 47.0+ KB\n"
     ]
    }
   ],
   "source": [
    "#The code returns the information our data including the columns present and their datatypes\n",
    "rfm_data.info()"
   ]
  },
  {
   "cell_type": "code",
   "execution_count": 4,
   "id": "6e5d76c1",
   "metadata": {
    "execution": {
     "iopub.execute_input": "2023-10-17T15:28:59.968070Z",
     "iopub.status.busy": "2023-10-17T15:28:59.967277Z",
     "iopub.status.idle": "2023-10-17T15:28:59.986945Z",
     "shell.execute_reply": "2023-10-17T15:28:59.985876Z"
    },
    "papermill": {
     "duration": 0.026752,
     "end_time": "2023-10-17T15:28:59.989224",
     "exception": false,
     "start_time": "2023-10-17T15:28:59.962472",
     "status": "completed"
    },
    "tags": []
   },
   "outputs": [
    {
     "data": {
      "text/html": [
       "<div>\n",
       "<style scoped>\n",
       "    .dataframe tbody tr th:only-of-type {\n",
       "        vertical-align: middle;\n",
       "    }\n",
       "\n",
       "    .dataframe tbody tr th {\n",
       "        vertical-align: top;\n",
       "    }\n",
       "\n",
       "    .dataframe thead th {\n",
       "        text-align: right;\n",
       "    }\n",
       "</style>\n",
       "<table border=\"1\" class=\"dataframe\">\n",
       "  <thead>\n",
       "    <tr style=\"text-align: right;\">\n",
       "      <th></th>\n",
       "      <th>CustomerID</th>\n",
       "      <th>TransactionAmount</th>\n",
       "      <th>OrderID</th>\n",
       "    </tr>\n",
       "  </thead>\n",
       "  <tbody>\n",
       "    <tr>\n",
       "      <th>count</th>\n",
       "      <td>1000.000000</td>\n",
       "      <td>1000.00000</td>\n",
       "      <td>1000.000000</td>\n",
       "    </tr>\n",
       "    <tr>\n",
       "      <th>mean</th>\n",
       "      <td>5554.789000</td>\n",
       "      <td>513.67781</td>\n",
       "      <td>554071.398000</td>\n",
       "    </tr>\n",
       "    <tr>\n",
       "      <th>std</th>\n",
       "      <td>2605.014863</td>\n",
       "      <td>286.09870</td>\n",
       "      <td>264695.448814</td>\n",
       "    </tr>\n",
       "    <tr>\n",
       "      <th>min</th>\n",
       "      <td>1011.000000</td>\n",
       "      <td>12.13000</td>\n",
       "      <td>100096.000000</td>\n",
       "    </tr>\n",
       "    <tr>\n",
       "      <th>25%</th>\n",
       "      <td>3273.000000</td>\n",
       "      <td>257.12000</td>\n",
       "      <td>313152.000000</td>\n",
       "    </tr>\n",
       "    <tr>\n",
       "      <th>50%</th>\n",
       "      <td>5538.000000</td>\n",
       "      <td>523.56500</td>\n",
       "      <td>564671.500000</td>\n",
       "    </tr>\n",
       "    <tr>\n",
       "      <th>75%</th>\n",
       "      <td>7821.750000</td>\n",
       "      <td>759.86000</td>\n",
       "      <td>783052.250000</td>\n",
       "    </tr>\n",
       "    <tr>\n",
       "      <th>max</th>\n",
       "      <td>9991.000000</td>\n",
       "      <td>999.44000</td>\n",
       "      <td>999695.000000</td>\n",
       "    </tr>\n",
       "  </tbody>\n",
       "</table>\n",
       "</div>"
      ],
      "text/plain": [
       "        CustomerID  TransactionAmount        OrderID\n",
       "count  1000.000000         1000.00000    1000.000000\n",
       "mean   5554.789000          513.67781  554071.398000\n",
       "std    2605.014863          286.09870  264695.448814\n",
       "min    1011.000000           12.13000  100096.000000\n",
       "25%    3273.000000          257.12000  313152.000000\n",
       "50%    5538.000000          523.56500  564671.500000\n",
       "75%    7821.750000          759.86000  783052.250000\n",
       "max    9991.000000          999.44000  999695.000000"
      ]
     },
     "execution_count": 4,
     "metadata": {},
     "output_type": "execute_result"
    }
   ],
   "source": [
    "#This code gives the total statistical summary of the dataset\n",
    "rfm_data.describe()"
   ]
  },
  {
   "cell_type": "code",
   "execution_count": 5,
   "id": "26f184c2",
   "metadata": {
    "execution": {
     "iopub.execute_input": "2023-10-17T15:28:59.998040Z",
     "iopub.status.busy": "2023-10-17T15:28:59.997411Z",
     "iopub.status.idle": "2023-10-17T15:29:00.016398Z",
     "shell.execute_reply": "2023-10-17T15:29:00.015303Z"
    },
    "papermill": {
     "duration": 0.026027,
     "end_time": "2023-10-17T15:29:00.018724",
     "exception": false,
     "start_time": "2023-10-17T15:28:59.992697",
     "status": "completed"
    },
    "tags": []
   },
   "outputs": [
    {
     "data": {
      "text/plain": [
       "CustomerID  PurchaseDate  TransactionAmount  ProductInformation  OrderID  Location\n",
       "1011        2023-05-02    918.72             Product B           945619   London      1\n",
       "7099        2023-05-04    855.78             Product C           572623   London      1\n",
       "6963        2023-05-05    921.02             Product B           999138   New York    1\n",
       "6967        2023-05-08    79.27              Product C           753425   Paris       1\n",
       "6986        2023-05-15    686.11             Product D           907788   New York    1\n",
       "                                                                                     ..\n",
       "4116        2023-05-15    454.13             Product D           292401   Paris       1\n",
       "4131        2023-04-29    363.40             Product A           787584   Paris       1\n",
       "4150        2023-04-26    286.22             Product C           335790   Paris       1\n",
       "4154        2023-05-01    518.76             Product A           275526   New York    1\n",
       "9991        2023-05-11    626.81             Product B           828834   New York    1\n",
       "Name: count, Length: 1000, dtype: int64"
      ]
     },
     "execution_count": 5,
     "metadata": {},
     "output_type": "execute_result"
    }
   ],
   "source": [
    "rfm_data.value_counts()"
   ]
  },
  {
   "cell_type": "code",
   "execution_count": 6,
   "id": "2971d0b4",
   "metadata": {
    "execution": {
     "iopub.execute_input": "2023-10-17T15:29:00.028577Z",
     "iopub.status.busy": "2023-10-17T15:29:00.027441Z",
     "iopub.status.idle": "2023-10-17T15:29:00.035590Z",
     "shell.execute_reply": "2023-10-17T15:29:00.034663Z"
    },
    "papermill": {
     "duration": 0.015125,
     "end_time": "2023-10-17T15:29:00.037689",
     "exception": false,
     "start_time": "2023-10-17T15:29:00.022564",
     "status": "completed"
    },
    "tags": []
   },
   "outputs": [
    {
     "data": {
      "text/plain": [
       "CustomerID            0\n",
       "PurchaseDate          0\n",
       "TransactionAmount     0\n",
       "ProductInformation    0\n",
       "OrderID               0\n",
       "Location              0\n",
       "dtype: int64"
      ]
     },
     "execution_count": 6,
     "metadata": {},
     "output_type": "execute_result"
    }
   ],
   "source": [
    "#This shows that our data has no null values\n",
    "rfm_data.isnull().sum()"
   ]
  },
  {
   "cell_type": "code",
   "execution_count": 7,
   "id": "8e6bab32",
   "metadata": {
    "execution": {
     "iopub.execute_input": "2023-10-17T15:29:00.047241Z",
     "iopub.status.busy": "2023-10-17T15:29:00.046905Z",
     "iopub.status.idle": "2023-10-17T15:29:00.054073Z",
     "shell.execute_reply": "2023-10-17T15:29:00.052849Z"
    },
    "papermill": {
     "duration": 0.014718,
     "end_time": "2023-10-17T15:29:00.056325",
     "exception": false,
     "start_time": "2023-10-17T15:29:00.041607",
     "status": "completed"
    },
    "tags": []
   },
   "outputs": [
    {
     "name": "stdout",
     "output_type": "stream",
     "text": [
      "CustomerID             946\n",
      "PurchaseDate            61\n",
      "TransactionAmount      997\n",
      "ProductInformation       4\n",
      "OrderID               1000\n",
      "Location                 4\n",
      "dtype: int64\n"
     ]
    }
   ],
   "source": [
    "#The below code returns the numbers of unique values in our data\n",
    "\n",
    "unique_metrics = rfm_data.nunique()\n",
    "print(unique_metrics)"
   ]
  },
  {
   "cell_type": "code",
   "execution_count": 8,
   "id": "66344dc0",
   "metadata": {
    "execution": {
     "iopub.execute_input": "2023-10-17T15:29:00.065598Z",
     "iopub.status.busy": "2023-10-17T15:29:00.065223Z",
     "iopub.status.idle": "2023-10-17T15:29:00.070623Z",
     "shell.execute_reply": "2023-10-17T15:29:00.069468Z"
    },
    "papermill": {
     "duration": 0.013668,
     "end_time": "2023-10-17T15:29:00.073932",
     "exception": false,
     "start_time": "2023-10-17T15:29:00.060264",
     "status": "completed"
    },
    "tags": []
   },
   "outputs": [
    {
     "name": "stdout",
     "output_type": "stream",
     "text": [
      "CustomerID\n",
      "PurchaseDate\n",
      "TransactionAmount\n",
      "ProductInformation\n",
      "OrderID\n",
      "Location\n"
     ]
    }
   ],
   "source": [
    "#This shows the columns present in our data set\n",
    "for column in rfm_data.columns:\n",
    "    print (column)"
   ]
  },
  {
   "cell_type": "code",
   "execution_count": 9,
   "id": "4210b32a",
   "metadata": {
    "execution": {
     "iopub.execute_input": "2023-10-17T15:29:00.083072Z",
     "iopub.status.busy": "2023-10-17T15:29:00.082718Z",
     "iopub.status.idle": "2023-10-17T15:29:00.090349Z",
     "shell.execute_reply": "2023-10-17T15:29:00.089089Z"
    },
    "papermill": {
     "duration": 0.014518,
     "end_time": "2023-10-17T15:29:00.092366",
     "exception": false,
     "start_time": "2023-10-17T15:29:00.077848",
     "status": "completed"
    },
    "tags": []
   },
   "outputs": [
    {
     "name": "stdout",
     "output_type": "stream",
     "text": [
      "0      943.31\n",
      "1      463.70\n",
      "2       80.28\n",
      "3      221.29\n",
      "4      739.56\n",
      "        ...  \n",
      "995    759.62\n",
      "996    941.50\n",
      "997    545.36\n",
      "998    729.94\n",
      "999    804.28\n",
      "Name: TransactionAmount, Length: 1000, dtype: float64\n"
     ]
    }
   ],
   "source": [
    "transaction_amount_column = rfm_data ['TransactionAmount']\n",
    "product_information_column = rfm_data ['ProductInformation']\n",
    "customer_id_column = rfm_data ['CustomerID']\n",
    "purchase_date = rfm_data ['PurchaseDate']\n",
    "order_id = rfm_data ['OrderID']\n",
    "location_id = rfm_data ['Location']\n",
    "print (transaction_amount_column)"
   ]
  },
  {
   "cell_type": "code",
   "execution_count": null,
   "id": "966bfa64",
   "metadata": {
    "papermill": {
     "duration": 0.003646,
     "end_time": "2023-10-17T15:29:00.099936",
     "exception": false,
     "start_time": "2023-10-17T15:29:00.096290",
     "status": "completed"
    },
    "tags": []
   },
   "outputs": [],
   "source": []
  },
  {
   "cell_type": "code",
   "execution_count": null,
   "id": "f86ff9e5",
   "metadata": {
    "papermill": {
     "duration": 0.003727,
     "end_time": "2023-10-17T15:29:00.107583",
     "exception": false,
     "start_time": "2023-10-17T15:29:00.103856",
     "status": "completed"
    },
    "tags": []
   },
   "outputs": [],
   "source": []
  },
  {
   "cell_type": "code",
   "execution_count": null,
   "id": "00d11261",
   "metadata": {
    "papermill": {
     "duration": 0.003652,
     "end_time": "2023-10-17T15:29:00.115200",
     "exception": false,
     "start_time": "2023-10-17T15:29:00.111548",
     "status": "completed"
    },
    "tags": []
   },
   "outputs": [],
   "source": []
  }
 ],
 "metadata": {
  "kernelspec": {
   "display_name": "Python 3",
   "language": "python",
   "name": "python3"
  },
  "language_info": {
   "codemirror_mode": {
    "name": "ipython",
    "version": 3
   },
   "file_extension": ".py",
   "mimetype": "text/x-python",
   "name": "python",
   "nbconvert_exporter": "python",
   "pygments_lexer": "ipython3",
   "version": "3.10.12"
  },
  "papermill": {
   "default_parameters": {},
   "duration": 4.269779,
   "end_time": "2023-10-17T15:29:00.640064",
   "environment_variables": {},
   "exception": null,
   "input_path": "__notebook__.ipynb",
   "output_path": "__notebook__.ipynb",
   "parameters": {},
   "start_time": "2023-10-17T15:28:56.370285",
   "version": "2.4.0"
  }
 },
 "nbformat": 4,
 "nbformat_minor": 5
}
